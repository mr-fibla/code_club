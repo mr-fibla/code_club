{
  "cells": [
    {
      "cell_type": "markdown",
      "metadata": {
        "id": "view-in-github",
        "colab_type": "text"
      },
      "source": [
        "<a href=\"https://colab.research.google.com/github/mr-fibla/code_club/blob/main/Machine_learning_CW2.ipynb\" target=\"_parent\"><img src=\"https://colab.research.google.com/assets/colab-badge.svg\" alt=\"Open In Colab\"/></a>"
      ]
    },
    {
      "cell_type": "markdown",
      "metadata": {
        "id": "3KpLX_GD37Jj"
      },
      "source": [
        "# Machine Learning Coursework 2\n",
        "\n",
        "For coursework 2 you will be asked to train and evalute several different classifiers: Naïve Bayes classifier, Random Forest classifier, and kNN classifier using the iris dataset. You will be asked to answer a series of questions relating to each individual model and questions comparing each model. \n",
        "\n",
        "#### You are free to use the sklearn library. \n",
        "\n",
        "\n",
        "Notes:\n",
        "- Remember to comment all of your code (see here for tips: https://stackabuse.com/commenting-python-code/). You can also make use of Jupyter Markdown, where appropriate, to improve the layout of your code and documentation.\n",
        "- Please add docstrings to all of your functions (so that users can get information on inputs/outputs and what each function does by typing SHIFT+TAB over the function name. For more detail on python docstrings, see here: https://numpydoc.readthedocs.io/en/latest/format.html)\n",
        "- When a question allows a free-form answer (e.g. what do you observe?), create a new markdown cell below and answer the question in the notebook. \n",
        "- Always save your notebook when you are done (this is not automatic)!\n",
        "- Upload your completed notebook using the VLE\n",
        "\n",
        "Plagiarism: please make sure that the material you submit has been created by you. Any sources you use for code should be properly referenced. Your code will be checked for plagiarism using appropriate software.\n",
        "\n",
        "### Marking \n",
        "\n",
        "The grades in this coursework are allocated approximately as follows:\n",
        "\n",
        "|                                                    | mark  |  \n",
        "|----------------------------------------------------|-------|\n",
        "| Code                                               | 7     |\n",
        "| Code Report/comments                               | 6     |\n",
        "| Model questions                                    | 14    |  \n",
        "| Model comparision questions                        | 18    |\n",
        "| Total available                                    |**45** |  \n",
        "\n",
        "##### Remember to save your notebook as “CW2.ipynb”. It is a good idea to re-run the whole thing before saving and submitting. \n",
        "\n",
        "\n",
        "\n",
        "\n",
        "\n",
        "\n",
        "\n",
        "\n"
      ],
      "id": "3KpLX_GD37Jj"
    },
    {
      "cell_type": "markdown",
      "metadata": {
        "id": "pXrfeshf37Js"
      },
      "source": [
        "## Important notes\n"
      ],
      "id": "pXrfeshf37Js"
    },
    {
      "cell_type": "markdown",
      "metadata": {
        "id": "HhFNOQlo37Jt"
      },
      "source": [
        "## 1. Classifiers [7 marks total]\n",
        "Code and train your three classifiers in the cells below the corresponding header. You do not need to implement cross-validation in this coursework, simply fit the data. You are free to use sklearn and other packages where necessary.  \n",
        "\n"
      ],
      "id": "HhFNOQlo37Jt"
    },
    {
      "cell_type": "code",
      "execution_count": null,
      "metadata": {
        "colab": {
          "base_uri": "https://localhost:8080/"
        },
        "id": "uO53crEU37Jv",
        "outputId": "1e5c9e8b-dc5d-4125-db22-49e6503b6a3a"
      },
      "outputs": [
        {
          "output_type": "stream",
          "name": "stdout",
          "text": [
            ".. _iris_dataset:\n",
            "\n",
            "Iris plants dataset\n",
            "--------------------\n",
            "\n",
            "**Data Set Characteristics:**\n",
            "\n",
            "    :Number of Instances: 150 (50 in each of three classes)\n",
            "    :Number of Attributes: 4 numeric, predictive attributes and the class\n",
            "    :Attribute Information:\n",
            "        - sepal length in cm\n",
            "        - sepal width in cm\n",
            "        - petal length in cm\n",
            "        - petal width in cm\n",
            "        - class:\n",
            "                - Iris-Setosa\n",
            "                - Iris-Versicolour\n",
            "                - Iris-Virginica\n",
            "                \n",
            "    :Summary Statistics:\n",
            "\n",
            "    ============== ==== ==== ======= ===== ====================\n",
            "                    Min  Max   Mean    SD   Class Correlation\n",
            "    ============== ==== ==== ======= ===== ====================\n",
            "    sepal length:   4.3  7.9   5.84   0.83    0.7826\n",
            "    sepal width:    2.0  4.4   3.05   0.43   -0.4194\n",
            "    petal length:   1.0  6.9   3.76   1.76    0.9490  (high!)\n",
            "    petal width:    0.1  2.5   1.20   0.76    0.9565  (high!)\n",
            "    ============== ==== ==== ======= ===== ====================\n",
            "\n",
            "    :Missing Attribute Values: None\n",
            "    :Class Distribution: 33.3% for each of 3 classes.\n",
            "    :Creator: R.A. Fisher\n",
            "    :Donor: Michael Marshall (MARSHALL%PLU@io.arc.nasa.gov)\n",
            "    :Date: July, 1988\n",
            "\n",
            "The famous Iris database, first used by Sir R.A. Fisher. The dataset is taken\n",
            "from Fisher's paper. Note that it's the same as in R, but not as in the UCI\n",
            "Machine Learning Repository, which has two wrong data points.\n",
            "\n",
            "This is perhaps the best known database to be found in the\n",
            "pattern recognition literature.  Fisher's paper is a classic in the field and\n",
            "is referenced frequently to this day.  (See Duda & Hart, for example.)  The\n",
            "data set contains 3 classes of 50 instances each, where each class refers to a\n",
            "type of iris plant.  One class is linearly separable from the other 2; the\n",
            "latter are NOT linearly separable from each other.\n",
            "\n",
            ".. topic:: References\n",
            "\n",
            "   - Fisher, R.A. \"The use of multiple measurements in taxonomic problems\"\n",
            "     Annual Eugenics, 7, Part II, 179-188 (1936); also in \"Contributions to\n",
            "     Mathematical Statistics\" (John Wiley, NY, 1950).\n",
            "   - Duda, R.O., & Hart, P.E. (1973) Pattern Classification and Scene Analysis.\n",
            "     (Q327.D83) John Wiley & Sons.  ISBN 0-471-22361-1.  See page 218.\n",
            "   - Dasarathy, B.V. (1980) \"Nosing Around the Neighborhood: A New System\n",
            "     Structure and Classification Rule for Recognition in Partially Exposed\n",
            "     Environments\".  IEEE Transactions on Pattern Analysis and Machine\n",
            "     Intelligence, Vol. PAMI-2, No. 1, 67-71.\n",
            "   - Gates, G.W. (1972) \"The Reduced Nearest Neighbor Rule\".  IEEE Transactions\n",
            "     on Information Theory, May 1972, 431-433.\n",
            "   - See also: 1988 MLC Proceedings, 54-64.  Cheeseman et al\"s AUTOCLASS II\n",
            "     conceptual clustering system finds 3 classes in the data.\n",
            "   - Many, many more ...\n"
          ]
        }
      ],
      "source": [
        "# import datasets\n",
        "from sklearn import datasets \n",
        "\n",
        "# load data\n",
        "iris = datasets.load_iris() # load data \n",
        "print(iris.DESCR) # print dataset description\n"
      ],
      "id": "uO53crEU37Jv"
    },
    {
      "cell_type": "code",
      "execution_count": null,
      "metadata": {
        "id": "OV2hQEX037Jy"
      },
      "outputs": [],
      "source": [
        "#import general libraries\n",
        "import numpy as np\n",
        "import pandas as pd\n",
        "from matplotlib import pyplot as plt\n",
        "import seaborn as sns\n",
        "%matplotlib inline\n",
        "import time\n",
        "\n",
        "from sklearn.model_selection import train_test_split\n",
        "import sklearn.metrics as metrics"
      ],
      "id": "OV2hQEX037Jy"
    },
    {
      "cell_type": "code",
      "execution_count": null,
      "metadata": {
        "colab": {
          "base_uri": "https://localhost:8080/"
        },
        "id": "ahcm-aJH37Jz",
        "outputId": "ecf11004-a011-4d15-bd73-71d639d9e7f5"
      },
      "outputs": [
        {
          "output_type": "stream",
          "name": "stdout",
          "text": [
            "The data matrix:\n",
            " (150, 4)\n",
            "The classification target:\n",
            " (150,)\n",
            "The names of the dataset columns:\n",
            " ['sepal length (cm)', 'sepal width (cm)', 'petal length (cm)', 'petal width (cm)']\n",
            "The names of target classes:\n",
            " ['setosa' 'versicolor' 'virginica']\n"
          ]
        }
      ],
      "source": [
        "#Split dataset into data and target\n",
        "X=iris['data']\n",
        "y=iris['target']\n",
        "#print some features of the dataset\n",
        "print('The data matrix:\\n',iris['data'].shape)\n",
        "print('The classification target:\\n',iris['target'].shape)\n",
        "print('The names of the dataset columns:\\n',iris['feature_names'])\n",
        "print('The names of target classes:\\n',iris['target_names'])"
      ],
      "id": "ahcm-aJH37Jz"
    },
    {
      "cell_type": "markdown",
      "metadata": {
        "id": "SYwOsqrw37J1"
      },
      "source": [
        "I will select different names for training and test data, to avoid confuse the algorihm \n",
        "\n",
        "Add _nb for a Naive Bayes Classifier\n",
        "\n",
        "Add _rf for a Random Forest Classifier\n",
        "\n",
        "Add _kn for a K-Nearest Neighbor Classifier"
      ],
      "id": "SYwOsqrw37J1"
    },
    {
      "cell_type": "markdown",
      "metadata": {
        "id": "wx19TDHB37J2"
      },
      "source": [
        "### 1.1 Naïve Bayes Classifier [2]\n",
        "Train a naïve bayes classifier in python. \n",
        "\n",
        "Use your code to fit the data given above. \n"
      ],
      "id": "wx19TDHB37J2"
    },
    {
      "cell_type": "code",
      "execution_count": null,
      "metadata": {
        "colab": {
          "base_uri": "https://localhost:8080/"
        },
        "id": "5Uit-xBt37J3",
        "outputId": "d66c7b23-d304-47fa-e4c2-947e39e40fcb"
      },
      "outputs": [
        {
          "output_type": "stream",
          "name": "stdout",
          "text": [
            "Accuracy of the model:  1.0\n",
            "[[16  0  0]\n",
            " [ 0 18  0]\n",
            " [ 0  0 11]]\n",
            "class 0, precision: 1.00, recall: 1.00,  f-score: 1.00\n",
            "class 1, precision: 1.00, recall: 1.00,  f-score: 1.00\n",
            "class 2, precision: 1.00, recall: 1.00,  f-score: 1.00\n"
          ]
        }
      ],
      "source": [
        "#import specific libraries\n",
        "from sklearn.naive_bayes import GaussianNB\n",
        "\n",
        "\n",
        "\"\"\"\n",
        "To run the algorith we need call the split_data function. That function split\n",
        "the data into two subsets, the train set and the test set. 30% of data will be to test, and 70% to train\n",
        "\"\"\"\n",
        "X_train_nb, X_test_nb, y_train_nb, y_test_nb = train_test_split(X, y, test_size=0.3, random_state=0)\n",
        "\n",
        "#Train data with Gaussian\n",
        "gnb = GaussianNB()\n",
        "y_pred_nb = gnb.fit(X_train_nb, y_train_nb).predict(X_test_nb)\n",
        "\"\"\"\n",
        "confusion_matrix function take to the predicted values in the algorith of myKNN \n",
        "and the real values  \n",
        "\n",
        "parameters\n",
        "----------\n",
        "y_test_nb  : The real y-values\n",
        "y_pred_nb : The values of our model myKNN for y\n",
        "\n",
        "\n",
        "return\n",
        "------\n",
        "\n",
        "conf_matrix : The confusion matrix, rows show actual values and columns \n",
        "indicate predicted values. Given below is the description of each cell.\n",
        "TP (True Positives):Actual positives in the data, \n",
        "which have been correctly predicted as positive by our model. Hence True Positive.\n",
        "TN (True Negatives):Actual Negatives in the data, \n",
        "which have been correctly predicted as negative by our model. Hence True negative.\n",
        "FP (False Positives):\n",
        "Actual Negatives in data, \n",
        "but our model has predicted them as Positive. Hence False Positive.\n",
        "FN (False Negatives):\n",
        "Actual Positives in data,\n",
        "but our model has predicted them as Negative. Hence False Negative.\n",
        "\n",
        "\"\"\"\n",
        "\n",
        "print(\"Accuracy of the model: \", metrics.accuracy_score(y_test_nb, y_pred_nb))\n",
        "print(metrics.confusion_matrix(y_test_nb, y_pred_nb))\n",
        "\n",
        "\n",
        "\"\"\"\n",
        "Accuracy_model function give the values of Accuracy, Precision, Recall & F1 Score of the model\n",
        "\n",
        "parameters\n",
        "----------\n",
        "y_test_nb  : The real y-values\n",
        "y_pred_nb : The values of our model myKNN for y\n",
        "\n",
        "\n",
        "return\n",
        "------\n",
        "Accuracy : Accuracy is the most intuitive performance measure \n",
        "and it is simply a ratio of correctly predicted observation to the total \n",
        "observations.  \n",
        "Accuracy = TP+TN/TP+FP+FN+TN\n",
        "\n",
        "Precision : Precision is the ratio of correctly predicted positive observations\n",
        "to the total predicted positive observations. \n",
        "Precision = TP/TP+FP\n",
        "\n",
        "Recall (Sensitivity) - Recall is the ratio of correctly predicted positive\n",
        "observations to the all observations in actual class \n",
        "Recall = TP/TP+FN\n",
        "\n",
        "F1 score : F1 Score is the weighted average of Precision and Recall. \n",
        "F1 Score = 2*(Recall * Precision) / (Recall + Precision)\n",
        "\n",
        "\"\"\" \n",
        "precision_nb,recall_nb,fscore_nb,_ = metrics.precision_recall_fscore_support(y_test_nb,y_pred_nb )\n",
        "for c in np.unique(y_test_nb):\n",
        "        print(\"class %s, precision: %.2f, recall: %.2f,  f-score: %.2f\" % (c, precision_nb[c], recall_nb[c], fscore_nb[c]))\n",
        "\n"
      ],
      "id": "5Uit-xBt37J3"
    },
    {
      "cell_type": "markdown",
      "metadata": {
        "id": "xTb61P1037J5"
      },
      "source": [
        "### 1.2 Random Forest Classifier [3]\n",
        "Train a random forest classifier in python. Use your code to fit the data given above. \n",
        "\n",
        "Evaluate feature performance of the model. \n",
        "\n",
        "Visualise the feature importance. \n"
      ],
      "id": "xTb61P1037J5"
    },
    {
      "cell_type": "code",
      "execution_count": null,
      "metadata": {
        "colab": {
          "base_uri": "https://localhost:8080/"
        },
        "id": "EoLRyW3737J6",
        "outputId": "8a83e9ff-26fb-4c29-95a5-8581c6f3000b"
      },
      "outputs": [
        {
          "output_type": "stream",
          "name": "stdout",
          "text": [
            "Accuracy of the model:  1.0\n",
            "[[19  0  0]\n",
            " [ 0 13  0]\n",
            " [ 0  0 13]]\n",
            "class 0, precision: 1.00, recall: 1.00,  f-score: 1.00\n",
            "class 1, precision: 1.00, recall: 1.00,  f-score: 1.00\n",
            "class 2, precision: 1.00, recall: 1.00,  f-score: 1.00\n"
          ]
        }
      ],
      "source": [
        "#import specific libraries\n",
        "from sklearn.ensemble import RandomForestClassifier\n",
        "\n",
        "#Split data into train and test. \n",
        "X_train_rf, X_test_rf, y_train_rf, y_test_rf = train_test_split(X, y, test_size = 0.30)\n",
        "\n",
        "#Train dataset\n",
        "classifier = RandomForestClassifier(n_estimators = 100) \n",
        "classifier.fit(X_train_rf, y_train_rf)\n",
        "y_pred_rf = classifier.predict(X_test_rf)\n",
        "\n",
        "# evaluation\n",
        "print(\"Accuracy of the model: \", metrics.accuracy_score(y_test_rf, y_pred_rf))\n",
        "print(metrics.confusion_matrix(y_test_rf, y_pred_rf))\n",
        "\n",
        "# calculate precision and recall (and f-score, a weighted average of precision and recall) \n",
        "precision_rf,recall_rf,fscore_rf,_ = metrics.precision_recall_fscore_support(y_test_rf,y_pred_rf )\n",
        "for c in np.unique(y_test_rf):\n",
        "        print(\"class %s, precision: %.2f, recall: %.2f,  f-score: %.2f\" % (c, precision_rf[c], recall_rf[c], fscore_rf[c]))"
      ],
      "id": "EoLRyW3737J6"
    },
    {
      "cell_type": "code",
      "execution_count": null,
      "metadata": {
        "colab": {
          "base_uri": "https://localhost:8080/",
          "height": 399
        },
        "id": "jISuodSX37J7",
        "outputId": "a290250d-bf22-4a60-e0b1-6ccebd2f57ab"
      },
      "outputs": [
        {
          "output_type": "stream",
          "name": "stdout",
          "text": [
            "['sepal length (cm)', 'sepal width (cm)', 'petal length (cm)', 'petal width (cm)']\n",
            "petal length (cm)    0.452665\n",
            "petal width (cm)     0.418775\n",
            "sepal length (cm)    0.097335\n",
            "sepal width (cm)     0.031224\n",
            "dtype: float64\n"
          ]
        },
        {
          "output_type": "display_data",
          "data": {
            "text/plain": [
              "<Figure size 432x288 with 1 Axes>"
            ],
            "image/png": "[encoded data removed]"
          },
          "metadata": {
            "needs_background": "light"
          }
        }
      ],
      "source": [
        "# print the names of the four features\n",
        "print(iris.feature_names)\n",
        "'''\n",
        "Run the algorithn classifier.features_importances_ to calculate the percentatge of importance of\n",
        "eachg feature respect the total.\n",
        "Then add code to sort in descendent order to visualitze properly.\n",
        "The best way to check this info is through a graph, I plot a bar chart to visualize the\n",
        "important features and their percentage\n",
        "'''\n",
        "feature_imp = pd.Series(classifier.feature_importances_,index=iris.feature_names).sort_values(ascending=False)\n",
        "print(feature_imp)\n",
        "\n",
        "# Creating a bar plot\n",
        "sns.barplot(x=feature_imp, y=feature_imp.index)\n",
        "\n",
        "# Add labels to your graph\n",
        "plt.xlabel('Feature Importance Score')\n",
        "plt.ylabel('Features')\n",
        "plt.title(\"Visualizing Important Features\")\n",
        "plt.legend(feature_imp)\n",
        "plt.show()\n"
      ],
      "id": "jISuodSX37J7"
    },
    {
      "cell_type": "markdown",
      "metadata": {
        "id": "NH0zlf0637J9"
      },
      "source": [
        "### 1.3 kNN Classifier [2]\n",
        "Train a kNN classifier in python. \n",
        "\n",
        "Use your code to fit the data given above. "
      ],
      "id": "NH0zlf0637J9"
    },
    {
      "cell_type": "markdown",
      "metadata": {
        "id": "zVmLbcvm37J9"
      },
      "source": [
        "#### KNN Euclidean distance"
      ],
      "id": "zVmLbcvm37J9"
    },
    {
      "cell_type": "code",
      "execution_count": null,
      "metadata": {
        "colab": {
          "base_uri": "https://localhost:8080/",
          "height": 575
        },
        "id": "Uda6eENt37J-",
        "outputId": "7cd5fb54-9283-490e-c282-675dbe41b105"
      },
      "outputs": [
        {
          "output_type": "stream",
          "name": "stdout",
          "text": [
            "Accuracy KNneigbour euclidean  0.9111111111111111\n",
            "Confusion Matrix:\n",
            "[[12  0  0]\n",
            " [ 0 18  2]\n",
            " [ 0  2 11]]\n",
            "Classification Report:\n",
            "              precision    recall  f1-score   support\n",
            "\n",
            "           0       1.00      1.00      1.00        12\n",
            "           1       0.90      0.90      0.90        20\n",
            "           2       0.85      0.85      0.85        13\n",
            "\n",
            "    accuracy                           0.91        45\n",
            "   macro avg       0.92      0.92      0.92        45\n",
            "weighted avg       0.91      0.91      0.91        45\n",
            "\n"
          ]
        },
        {
          "output_type": "execute_result",
          "data": {
            "text/plain": [
              "Text(0, 0.5, 'Accuracy')"
            ]
          },
          "metadata": {},
          "execution_count": 7
        },
        {
          "output_type": "display_data",
          "data": {
            "text/plain": [
              "<Figure size 432x288 with 1 Axes>"
            ],
            "image/png": "[encoded data removed]"
          },
          "metadata": {
            "needs_background": "light"
          }
        }
      ],
      "source": [
        "#import the KNN Classifier library\n",
        "from sklearn.neighbors import KNeighborsClassifier\n",
        "\n",
        "\"\"\"\n",
        "KNeighboursClassifier algorithmn take to subsets of data ( X_Train and X_test), calculate the\n",
        "distance between each value using some distance function defined before.\n",
        "One distances are calculate, we sort all teh record in the training dataset\n",
        "by their distance to the rest of subset. We select the top K, where k\n",
        "is the numbers of neighbours we selected.\n",
        "The mode of class of is the prediction\n",
        "\n",
        "parameters\n",
        "----------\n",
        "X_train_kn , X_test_kn  : the subsets to calculate the distance between each point\n",
        "k : the numbers of neighbours\n",
        "distance : the kind of fucntion we will use. In this cell we use the euclidean distance\n",
        "\n",
        "return\n",
        "------\n",
        "\n",
        "y_pred_kn_e : the values of y the model get after run the algorithm for each value of K\n",
        "\n",
        "\"\"\"\n",
        "\n",
        "#Split data into train and test. \n",
        "X_train_kn, X_test_kn, y_train_kn, y_test_kn = train_test_split(X, y, test_size = 0.30)\n",
        "\n",
        "neighbours= range(1,20)\n",
        "accuracy_kn={}\n",
        "accuracy_list_kn=[]\n",
        "\n",
        "for k in neighbours:\n",
        "    knn=KNeighborsClassifier(n_neighbors=k, metric='euclidean')\n",
        "    knn.fit(X_train_kn,y_train_kn)\n",
        "    y_pred_kn_e=knn.predict(X_test_kn)\n",
        "    accuracy_kn[k]=metrics.accuracy_score(y_test_kn,y_pred_kn_e)\n",
        "   # print(k, accuracy_kn[k])\n",
        "    accuracy_list_kn.append(accuracy_kn[k])\n",
        "\n",
        "result = metrics.confusion_matrix(y_test_kn, y_pred_kn_e)\n",
        "print(\"Accuracy KNneigbour euclidean \" , metrics.accuracy_score(y_test_kn, y_pred_kn_e))\n",
        "print(\"Confusion Matrix:\")\n",
        "print(result)\n",
        "result1 = metrics.classification_report(y_test_kn, y_pred_kn_e)\n",
        "print(\"Classification Report:\",)\n",
        "print (result1)  \n",
        "#plot relationship between the values of K and their accuracy\n",
        "'''\n",
        "Call the function plot with the variables neigbours (k) and their accuracy \n",
        "to visualize the accuracy respect the neigbours\n",
        "'''\n",
        "%matplotlib inline\n",
        "plt.plot(neighbours,accuracy_list_kn)\n",
        "plt.xlabel('Values of K')\n",
        "plt.ylabel('Accuracy')\n"
      ],
      "id": "Uda6eENt37J-"
    },
    {
      "cell_type": "code",
      "execution_count": null,
      "metadata": {
        "colab": {
          "base_uri": "https://localhost:8080/"
        },
        "id": "jUThGIKN37J_",
        "outputId": "ecd5ddd9-f3a9-4256-cd44-36fbc31cc1b0"
      },
      "outputs": [
        {
          "output_type": "stream",
          "name": "stdout",
          "text": [
            "\n",
            "Next to train classifiers are using the same KNeighboursClassifier algorithmn with\n",
            "different distances.\n",
            "I could use a funtion to save code, but I just copy-pasted the same code \n",
            "with different metric... sorry\n",
            "\n"
          ]
        }
      ],
      "source": [
        "print('''\n",
        "Next to train classifiers are using the same KNeighboursClassifier algorithmn with\n",
        "different distances.\n",
        "I could use a funtion to save code, but I just copy-pasted the same code \n",
        "with different metric... sorry\n",
        "''')"
      ],
      "id": "jUThGIKN37J_"
    },
    {
      "cell_type": "markdown",
      "metadata": {
        "id": "W4SyMUaA37KA"
      },
      "source": [
        "### KNN manhattan distance"
      ],
      "id": "W4SyMUaA37KA"
    },
    {
      "cell_type": "code",
      "execution_count": null,
      "metadata": {
        "colab": {
          "base_uri": "https://localhost:8080/"
        },
        "id": "RvBZTLbi37KA",
        "outputId": "8e25883d-915f-4487-f725-ec23c5d6491e"
      },
      "outputs": [
        {
          "output_type": "stream",
          "name": "stdout",
          "text": [
            "Accuracy KNneigbour Manhattan  0.9555555555555556\n",
            "Confusion Matrix:\n",
            "[[12  0  0]\n",
            " [ 0 20  0]\n",
            " [ 0  2 11]]\n",
            "Classification Report:\n",
            "              precision    recall  f1-score   support\n",
            "\n",
            "           0       1.00      1.00      1.00        12\n",
            "           1       0.91      1.00      0.95        20\n",
            "           2       1.00      0.85      0.92        13\n",
            "\n",
            "    accuracy                           0.96        45\n",
            "   macro avg       0.97      0.95      0.96        45\n",
            "weighted avg       0.96      0.96      0.95        45\n",
            "\n"
          ]
        },
        {
          "output_type": "execute_result",
          "data": {
            "text/plain": [
              "Text(0, 0.5, 'Accuracy')"
            ]
          },
          "metadata": {},
          "execution_count": 9
        },
        {
          "output_type": "display_data",
          "data": {
            "text/plain": [
              "<Figure size 432x288 with 1 Axes>"
            ],
            "image/png": "[encoded data removed]"
          },
          "metadata": {
            "needs_background": "light"
          }
        }
      ],
      "source": [
        "#train different values for neighbours, from 1 to 20 to select best accuracy\n",
        "neighbours= range(1,20)\n",
        "accuracy_kn={}\n",
        "accuracy_list_kn=[]\n",
        "\n",
        "for k in neighbours:\n",
        "    knn=KNeighborsClassifier(n_neighbors=k, metric='manhattan')\n",
        "    knn.fit(X_train_kn,y_train_kn)\n",
        "    y_pred_kn_m=knn.predict(X_test_kn)\n",
        "    accuracy_kn[k]=metrics.accuracy_score(y_test_kn,y_pred_kn_m)\n",
        "   # print(k, accuracy_kn[k])\n",
        "    accuracy_list_kn.append(accuracy_kn[k])\n",
        "\n",
        "result = metrics.confusion_matrix(y_test_kn, y_pred_kn_m)\n",
        "print(\"Accuracy KNneigbour Manhattan \" , metrics.accuracy_score(y_test_kn, y_pred_kn_m))\n",
        "print(\"Confusion Matrix:\")\n",
        "\n",
        "print(result)\n",
        "result1 = metrics.classification_report(y_test_kn, y_pred_kn_m)\n",
        "print(\"Classification Report:\",)\n",
        "print (result1)  \n",
        "#plot relationship between the values of K and their accuracy\n",
        "\n",
        "%matplotlib inline\n",
        "plt.plot(neighbours,accuracy_list_kn)\n",
        "plt.xlabel('Values of K')\n",
        "plt.ylabel('Accuracy')"
      ],
      "id": "RvBZTLbi37KA"
    },
    {
      "cell_type": "markdown",
      "metadata": {
        "id": "e6Swb6E637KB"
      },
      "source": [
        "### KNN Chebyshev distance"
      ],
      "id": "e6Swb6E637KB"
    },
    {
      "cell_type": "code",
      "execution_count": null,
      "metadata": {
        "colab": {
          "base_uri": "https://localhost:8080/"
        },
        "id": "NRRdCTpi37KC",
        "outputId": "fa9912e3-c139-42a0-c374-65b47e037be3"
      },
      "outputs": [
        {
          "output_type": "stream",
          "name": "stdout",
          "text": [
            "Accuracy KNneigbour chebyshev 0.9333333333333333\n",
            "Confusion Matrix:\n",
            "[[12  0  0]\n",
            " [ 0 19  1]\n",
            " [ 0  2 11]]\n",
            "Classification Report:\n",
            "              precision    recall  f1-score   support\n",
            "\n",
            "           0       1.00      1.00      1.00        12\n",
            "           1       0.90      0.95      0.93        20\n",
            "           2       0.92      0.85      0.88        13\n",
            "\n",
            "    accuracy                           0.93        45\n",
            "   macro avg       0.94      0.93      0.94        45\n",
            "weighted avg       0.93      0.93      0.93        45\n",
            "\n"
          ]
        },
        {
          "output_type": "execute_result",
          "data": {
            "text/plain": [
              "Text(0, 0.5, 'Accuracy')"
            ]
          },
          "metadata": {},
          "execution_count": 10
        },
        {
          "output_type": "display_data",
          "data": {
            "text/plain": [
              "<Figure size 432x288 with 1 Axes>"
            ],
            "image/png": "[encoded data removed]"
          },
          "metadata": {
            "needs_background": "light"
          }
        }
      ],
      "source": [
        "#train different values for neighbours, from 1 to 20 to select best accuracy\n",
        "neighbours= range(1,20)\n",
        "accuracy_kn={}\n",
        "accuracy_list_kn=[]\n",
        "\n",
        "for k in neighbours:\n",
        "    knn=KNeighborsClassifier(n_neighbors=k, metric='chebyshev')\n",
        "    knn.fit(X_train_kn,y_train_kn)\n",
        "    y_pred_kn_c=knn.predict(X_test_kn)\n",
        "    accuracy_kn[k]=metrics.accuracy_score(y_test_kn,y_pred_kn_c)\n",
        "   # print(k, accuracy_kn[k])\n",
        "    accuracy_list_kn.append(accuracy_kn[k])\n",
        "\n",
        "result = metrics.confusion_matrix(y_test_kn, y_pred_kn_c)\n",
        "print(\"Accuracy KNneigbour chebyshev\" , metrics.accuracy_score(y_test_kn, y_pred_kn_c))\n",
        "print(\"Confusion Matrix:\")\n",
        "print(result)\n",
        "result1 = metrics.classification_report(y_test_kn, y_pred_kn_c)\n",
        "print(\"Classification Report:\",)\n",
        "print (result1)  \n",
        "#plot relationship between the values of K and their accuracy\n",
        "\n",
        "%matplotlib inline\n",
        "plt.plot(neighbours,accuracy_list_kn)\n",
        "plt.xlabel('Values of K')\n",
        "plt.ylabel('Accuracy')"
      ],
      "id": "NRRdCTpi37KC"
    },
    {
      "cell_type": "markdown",
      "metadata": {
        "id": "jut7CNpX37KD"
      },
      "source": [
        "## 2 Code Report [6 marks total]\n",
        "In a markdown box, write a short report (no more than 500 words) that describes the workings of your code. "
      ],
      "id": "jut7CNpX37KD"
    },
    {
      "cell_type": "markdown",
      "metadata": {
        "id": "I9UFDu2C37KE"
      },
      "source": [
        "\n",
        "\n",
        "1/ Import general libraries needed for training each model, like metrics or train_test_split from sklearn.\n",
        "\n",
        "2/ Importing the required data I check the features.\n",
        "\n",
        "All features values are in the same order of magnitude, there is no need for features scaling. In some references they do, but I am not agreed with this step when the \n",
        "dataset use the same units. I trained the dataset after scaling and I think we confuse the algorithm\n",
        "\n",
        "3/ Split the data  into two pieces, training set and testing set. I use the ‘train_test_split’ function to split the data. Optional parameter ‘test-size’ determines the split percentage, I select the standard 30%.‘random_state’ parameter makes the data split the same way every time you run. Since we are training and testing on different classifiers, I add a different suffix to the split data to avoid mix or confuse the accuracy of each classifier:\n",
        "add _nb for a Naive Bayes Classifier\n",
        "add _rf for a Random Forest Classifier\n",
        "add _kn for a K-Nearest Neighbor Classifier\n",
        "\n",
        "4/ Specifically for each classifier:\n",
        " \n",
        "4.1 / Naive Bayes classifier.\n",
        "\n",
        "Import the library needed, split data and train the GaussianNB model. After that I calculate the accuracy using the metrics library.\n",
        "No compulsory but I add confusion matrix and a basic graph\n",
        "\n",
        "\n",
        "4.2 / Random forest Classifier. \n",
        "\n",
        "Import the correspondent library and split data into train and test. The different parameters I set up have been(n_estimators = 100) used to create a random forest classifier.\n",
        "classifier.fit(X_train_rf, y_train_rf) is used to fit the function to train the model using the training set.\n",
        "y_pred_rf = classifier.predict(X_test_rf) is used to perform the prediction on the test dataset.\n",
        "From sklearn import metrics is used to find the accuracy or error from metrics.\n",
        "Finally print the accuracy of model after calculations using metrics .accuracy_score.\n",
        "Call the algorithn classifier.features_importances_ to calculate the percentatge of importance of each feature respect the total and plot a bar chart with this info\n",
        "\n",
        "4.3 / KNN Classifier\n",
        "\n",
        "Same working than other classifiers, ckecking the accuracy ajusting different parameters.\n",
        "I trained the model with different parameters, like different distances and different values of neighbouts (K)\n",
        "All other parameters are set to default values.\n",
        "‘fit’ method is used to train the model on training data (X_train_kn,y_train_kn) and ‘predict’ method to do the testing on testing data (X_test_kn). Choosing the optimal value of K is critical, so we fit and test the model for different values for K (from 1 to 20) using a for loop and record the KNN’s testing accuracy in a variable (scores).\n",
        "Plot the relationship between the values of K and the corresponding testing accuracy using the matplotlib library. In general, the value of K varies in each run. I check after several times that the higher accuracy is around 7-10 neighbors\n",
        "\n"
      ],
      "id": "I9UFDu2C37KE"
    },
    {
      "cell_type": "markdown",
      "metadata": {
        "id": "IRpvQcfM37KE"
      },
      "source": [
        "## 3 Model Questions [14 marks total]\n",
        "Please answer the following questions relating to your classifiers. "
      ],
      "id": "IRpvQcfM37KE"
    },
    {
      "cell_type": "markdown",
      "metadata": {
        "id": "5SMOqbKY37KF"
      },
      "source": [
        "### 3.1 Naïves Bayes Questions [4]\n",
        "Why do zero probabilities in our Naïve Bayes model cause problems? \n",
        "\n",
        "\n",
        "Please answer in the cell below."
      ],
      "id": "5SMOqbKY37KF"
    },
    {
      "cell_type": "markdown",
      "metadata": {
        "id": "ziGqGiW037KF"
      },
      "source": [
        "One of the disadvantages of Naïve-Bayes is that if you have no occurrences of a class label and a certain attribute value together then the frequency-based probability estimate will be zero. And this will get a zero when all the probabilities are multiplied."
      ],
      "id": "ziGqGiW037KF"
    },
    {
      "cell_type": "markdown",
      "metadata": {
        "id": "w0ZopYD037KG"
      },
      "source": [
        "![Bayes_rule-300x172.png](attachment:Bayes_rule-300x172.png)"
      ],
      "id": "w0ZopYD037KG"
    },
    {
      "cell_type": "markdown",
      "metadata": {
        "id": "3FGY2wGE37KG"
      },
      "source": [
        "\n",
        "How can we avoid the problem of zero probabilities in our Naïve Bayes model? \n",
        "\n",
        "Using Laplace Smoothing\n",
        "\n",
        "Laplace smoothing is a smoothing technique that handles the problem of zero probability in Naïve Bayes. Using Laplace smoothing, we can represent P(w’|positive) as"
      ],
      "id": "3FGY2wGE37KG"
    },
    {
      "cell_type": "markdown",
      "metadata": {
        "id": "Neg5l_ON37KG"
      },
      "source": [
        "![1*pvtiVc9Sqs7NJ23u0KHOpg.png](attachment:1*pvtiVc9Sqs7NJ23u0KHOpg.png)"
      ],
      "id": "Neg5l_ON37KG"
    },
    {
      "cell_type": "markdown",
      "metadata": {
        "id": "ZuDvdqXU37KH"
      },
      "source": [
        "K denotes the number of different values in y and A denotes the number of different values in aj. "
      ],
      "id": "ZuDvdqXU37KH"
    },
    {
      "cell_type": "markdown",
      "metadata": {
        "id": "O1yJklOl37KH"
      },
      "source": [
        "\n",
        "Alpha represents the smoothing parameter,\n",
        "\n",
        "K represents the number of dimensions (features) in the data.\n",
        "\n",
        "N represents the number of reviews with y=positive\n",
        "\n",
        "If we choose a value of alpha!=0 (not equal to 0), the probability will no longer be zero even if a word is not present in the training dataset.\n",
        "\n",
        "Usually lambda in the formula equals to 1."
      ],
      "id": "O1yJklOl37KH"
    },
    {
      "cell_type": "markdown",
      "metadata": {
        "id": "ZpgFWwXK37KH"
      },
      "source": [
        "# 3.2 Random Forest Questions [6]\n",
        "Which feature is the most important from your random forest classifier? \n",
        "\n"
      ],
      "id": "ZpgFWwXK37KH"
    },
    {
      "cell_type": "markdown",
      "metadata": {
        "id": "ih5qejis37KI"
      },
      "source": [
        "Petal Length and Petal Width are far more important than the other two features. Combined, Petal Length and Petal Width have an importance of ~0.86! Clearly these are the most importance features."
      ],
      "id": "ih5qejis37KI"
    },
    {
      "cell_type": "markdown",
      "metadata": {
        "id": "IvSOJZTK37KJ"
      },
      "source": [
        "Can any features be removed to increase accuracy of the model, if so which features? \n",
        "\n"
      ],
      "id": "IvSOJZTK37KJ"
    },
    {
      "cell_type": "markdown",
      "metadata": {
        "id": "8k2P1ySE37KJ"
      },
      "source": [
        "I will train the model removing just \"sepal width'because this feature hasvery low importance.\n",
        "After this, I will training the model with the two features that add up nearly 85% of the importance\""
      ],
      "id": "8k2P1ySE37KJ"
    },
    {
      "cell_type": "markdown",
      "metadata": {
        "id": "9zHVB2gr37KJ"
      },
      "source": [
        "### Training model with 3 more important features. ~98.35% importance"
      ],
      "id": "9zHVB2gr37KJ"
    },
    {
      "cell_type": "markdown",
      "metadata": {
        "id": "zloewX8I37KK"
      },
      "source": [
        "petal width (cm)     0.463981\n",
        "\n",
        "petal length (cm)    0.429851\n",
        "\n",
        "sepal length (cm)    0.089762"
      ],
      "id": "zloewX8I37KK"
    },
    {
      "cell_type": "code",
      "execution_count": null,
      "metadata": {
        "colab": {
          "base_uri": "https://localhost:8080/",
          "height": 143
        },
        "id": "-TbgnLS437KL",
        "outputId": "1071682f-5fa7-4781-ae72-342a5248697b"
      },
      "outputs": [
        {
          "output_type": "execute_result",
          "data": {
            "text/plain": [
              "   sepal length (cm)  petal length (cm)  petal width (cm)\n",
              "0                5.1                1.4               0.2\n",
              "1                4.9                1.4               0.2\n",
              "2                4.7                1.3               0.2"
            ],
            "text/html": [
              "\n",
              "  <div id=\"df-a6ef6c6f-7db1-4bf1-adcd-c1aff6ac63b0\">\n",
              "    <div class=\"colab-df-container\">\n",
              "      <div>\n",
              "<style scoped>\n",
              "    .dataframe tbody tr th:only-of-type {\n",
              "        vertical-align: middle;\n",
              "    }\n",
              "\n",
              "    .dataframe tbody tr th {\n",
              "        vertical-align: top;\n",
              "    }\n",
              "\n",
              "    .dataframe thead th {\n",
              "        text-align: right;\n",
              "    }\n",
              "</style>\n",
              "<table border=\"1\" class=\"dataframe\">\n",
              "  <thead>\n",
              "    <tr style=\"text-align: right;\">\n",
              "      <th></th>\n",
              "      <th>sepal length (cm)</th>\n",
              "      <th>petal length (cm)</th>\n",
              "      <th>petal width (cm)</th>\n",
              "    </tr>\n",
              "  </thead>\n",
              "  <tbody>\n",
              "    <tr>\n",
              "      <th>0</th>\n",
              "      <td>5.1</td>\n",
              "      <td>1.4</td>\n",
              "      <td>0.2</td>\n",
              "    </tr>\n",
              "    <tr>\n",
              "      <th>1</th>\n",
              "      <td>4.9</td>\n",
              "      <td>1.4</td>\n",
              "      <td>0.2</td>\n",
              "    </tr>\n",
              "    <tr>\n",
              "      <th>2</th>\n",
              "      <td>4.7</td>\n",
              "      <td>1.3</td>\n",
              "      <td>0.2</td>\n",
              "    </tr>\n",
              "  </tbody>\n",
              "</table>\n",
              "</div>\n",
              "      <button class=\"colab-df-convert\" onclick=\"convertToInteractive('df-a6ef6c6f-7db1-4bf1-adcd-c1aff6ac63b0')\"\n",
              "              title=\"Convert this dataframe to an interactive table.\"\n",
              "              style=\"display:none;\">\n",
              "        \n",
              "  <svg xmlns=\"http://www.w3.org/2000/svg\" height=\"24px\"viewBox=\"0 0 24 24\"\n",
              "       width=\"24px\">\n",
              "    <path d=\"M0 0h24v24H0V0z\" fill=\"none\"/>\n",
              "    <path d=\"M18.56 5.44l.94 2.06.94-2.06 2.06-.94-2.06-.94-.94-2.06-.94 2.06-2.06.94zm-11 1L8.5 8.5l.94-2.06 2.06-.94-2.06-.94L8.5 2.5l-.94 2.06-2.06.94zm10 10l.94 2.06.94-2.06 2.06-.94-2.06-.94-.94-2.06-.94 2.06-2.06.94z\"/><path d=\"M17.41 7.96l-1.37-1.37c-.4-.4-.92-.59-1.43-.59-.52 0-1.04.2-1.43.59L10.3 9.45l-7.72 7.72c-.78.78-.78 2.05 0 2.83L4 21.41c.39.39.9.59 1.41.59.51 0 1.02-.2 1.41-.59l7.78-7.78 2.81-2.81c.8-.78.8-2.07 0-2.86zM5.41 20L4 18.59l7.72-7.72 1.47 1.35L5.41 20z\"/>\n",
              "  </svg>\n",
              "      </button>\n",
              "      \n",
              "  <style>\n",
              "    .colab-df-container {\n",
              "      display:flex;\n",
              "      flex-wrap:wrap;\n",
              "      gap: 12px;\n",
              "    }\n",
              "\n",
              "    .colab-df-convert {\n",
              "      background-color: #E8F0FE;\n",
              "      border: none;\n",
              "      border-radius: 50%;\n",
              "      cursor: pointer;\n",
              "      display: none;\n",
              "      fill: #1967D2;\n",
              "      height: 32px;\n",
              "      padding: 0 0 0 0;\n",
              "      width: 32px;\n",
              "    }\n",
              "\n",
              "    .colab-df-convert:hover {\n",
              "      background-color: #E2EBFA;\n",
              "      box-shadow: 0px 1px 2px rgba(60, 64, 67, 0.3), 0px 1px 3px 1px rgba(60, 64, 67, 0.15);\n",
              "      fill: #174EA6;\n",
              "    }\n",
              "\n",
              "    [theme=dark] .colab-df-convert {\n",
              "      background-color: #3B4455;\n",
              "      fill: #D2E3FC;\n",
              "    }\n",
              "\n",
              "    [theme=dark] .colab-df-convert:hover {\n",
              "      background-color: #434B5C;\n",
              "      box-shadow: 0px 1px 3px 1px rgba(0, 0, 0, 0.15);\n",
              "      filter: drop-shadow(0px 1px 2px rgba(0, 0, 0, 0.3));\n",
              "      fill: #FFFFFF;\n",
              "    }\n",
              "  </style>\n",
              "\n",
              "      <script>\n",
              "        const buttonEl =\n",
              "          document.querySelector('#df-a6ef6c6f-7db1-4bf1-adcd-c1aff6ac63b0 button.colab-df-convert');\n",
              "        buttonEl.style.display =\n",
              "          google.colab.kernel.accessAllowed ? 'block' : 'none';\n",
              "\n",
              "        async function convertToInteractive(key) {\n",
              "          const element = document.querySelector('#df-a6ef6c6f-7db1-4bf1-adcd-c1aff6ac63b0');\n",
              "          const dataTable =\n",
              "            await google.colab.kernel.invokeFunction('convertToInteractive',\n",
              "                                                     [key], {});\n",
              "          if (!dataTable) return;\n",
              "\n",
              "          const docLinkHtml = 'Like what you see? Visit the ' +\n",
              "            '<a target=\"_blank\" href=https://colab.research.google.com/notebooks/data_table.ipynb>data table notebook</a>'\n",
              "            + ' to learn more about interactive tables.';\n",
              "          element.innerHTML = '';\n",
              "          dataTable['output_type'] = 'display_data';\n",
              "          await google.colab.output.renderOutput(dataTable, element);\n",
              "          const docLink = document.createElement('div');\n",
              "          docLink.innerHTML = docLinkHtml;\n",
              "          element.appendChild(docLink);\n",
              "        }\n",
              "      </script>\n",
              "    </div>\n",
              "  </div>\n",
              "  "
            ]
          },
          "metadata": {},
          "execution_count": 18
        }
      ],
      "source": [
        "# Create input and output features\n",
        "feature_names = iris['feature_names']\n",
        "X_data = pd.DataFrame(X, columns=feature_names)\n",
        "y=iris['target']\n",
        "#Select the 3 more important features\n",
        "X_3=X_data[['sepal length (cm)', 'petal length (cm)', 'petal width (cm)']]\n",
        "X_3.head(3)"
      ],
      "id": "-TbgnLS437KL"
    },
    {
      "cell_type": "code",
      "execution_count": null,
      "metadata": {
        "colab": {
          "base_uri": "https://localhost:8080/"
        },
        "id": "ihfUJO5e37KM",
        "outputId": "f9f7e1b4-1530-4993-acd9-1d15dda4b5d7"
      },
      "outputs": [
        {
          "output_type": "stream",
          "name": "stdout",
          "text": [
            "Accuracy of the model 3 with most important features:  0.9777777777777777\n"
          ]
        }
      ],
      "source": [
        "#Split data into train and test. \n",
        "#I give a different name to the variables, adding _3\n",
        "X_train_rf_3, X_test_rf_3, y_train_rf_3, y_test_rf_3 = train_test_split(X_3, y, test_size = 0.30)\n",
        "\n",
        "#Train the model with 3 variables\n",
        "classifier_3 = RandomForestClassifier(n_estimators = 100) \n",
        "classifier_3.fit(X_train_rf_3, y_train_rf_3)\n",
        "y_pred_rf_3 = classifier_3.predict(X_test_rf_3)\n",
        "\n",
        "#print accuracy \n",
        "print(\"Accuracy of the model 3 with most important features: \", metrics.accuracy_score(y_test_rf_3, y_pred_rf_3))\n"
      ],
      "id": "ihfUJO5e37KM"
    },
    {
      "cell_type": "markdown",
      "metadata": {
        "id": "iOUfDeEp37KN"
      },
      "source": [
        "### Training model with 2 more important features. ~89.38% importance"
      ],
      "id": "iOUfDeEp37KN"
    },
    {
      "cell_type": "markdown",
      "metadata": {
        "id": "LYJNgWT837KN"
      },
      "source": [
        "petal width (cm)     0.463981\n",
        "\n",
        "petal length (cm)    0.429851\n"
      ],
      "id": "LYJNgWT837KN"
    },
    {
      "cell_type": "code",
      "execution_count": null,
      "metadata": {
        "colab": {
          "base_uri": "https://localhost:8080/",
          "height": 143
        },
        "id": "7jdFp4AF37KN",
        "outputId": "c4a293dd-9646-42ce-dc0a-111732a4dae1"
      },
      "outputs": [
        {
          "output_type": "execute_result",
          "data": {
            "text/plain": [
              "   petal length (cm)  petal width (cm)\n",
              "0                1.4               0.2\n",
              "1                1.4               0.2\n",
              "2                1.3               0.2"
            ],
            "text/html": [
              "\n",
              "  <div id=\"df-1dbe4f01-9ed1-4d8f-b182-2cd46a53291c\">\n",
              "    <div class=\"colab-df-container\">\n",
              "      <div>\n",
              "<style scoped>\n",
              "    .dataframe tbody tr th:only-of-type {\n",
              "        vertical-align: middle;\n",
              "    }\n",
              "\n",
              "    .dataframe tbody tr th {\n",
              "        vertical-align: top;\n",
              "    }\n",
              "\n",
              "    .dataframe thead th {\n",
              "        text-align: right;\n",
              "    }\n",
              "</style>\n",
              "<table border=\"1\" class=\"dataframe\">\n",
              "  <thead>\n",
              "    <tr style=\"text-align: right;\">\n",
              "      <th></th>\n",
              "      <th>petal length (cm)</th>\n",
              "      <th>petal width (cm)</th>\n",
              "    </tr>\n",
              "  </thead>\n",
              "  <tbody>\n",
              "    <tr>\n",
              "      <th>0</th>\n",
              "      <td>1.4</td>\n",
              "      <td>0.2</td>\n",
              "    </tr>\n",
              "    <tr>\n",
              "      <th>1</th>\n",
              "      <td>1.4</td>\n",
              "      <td>0.2</td>\n",
              "    </tr>\n",
              "    <tr>\n",
              "      <th>2</th>\n",
              "      <td>1.3</td>\n",
              "      <td>0.2</td>\n",
              "    </tr>\n",
              "  </tbody>\n",
              "</table>\n",
              "</div>\n",
              "      <button class=\"colab-df-convert\" onclick=\"convertToInteractive('df-1dbe4f01-9ed1-4d8f-b182-2cd46a53291c')\"\n",
              "              title=\"Convert this dataframe to an interactive table.\"\n",
              "              style=\"display:none;\">\n",
              "        \n",
              "  <svg xmlns=\"http://www.w3.org/2000/svg\" height=\"24px\"viewBox=\"0 0 24 24\"\n",
              "       width=\"24px\">\n",
              "    <path d=\"M0 0h24v24H0V0z\" fill=\"none\"/>\n",
              "    <path d=\"M18.56 5.44l.94 2.06.94-2.06 2.06-.94-2.06-.94-.94-2.06-.94 2.06-2.06.94zm-11 1L8.5 8.5l.94-2.06 2.06-.94-2.06-.94L8.5 2.5l-.94 2.06-2.06.94zm10 10l.94 2.06.94-2.06 2.06-.94-2.06-.94-.94-2.06-.94 2.06-2.06.94z\"/><path d=\"M17.41 7.96l-1.37-1.37c-.4-.4-.92-.59-1.43-.59-.52 0-1.04.2-1.43.59L10.3 9.45l-7.72 7.72c-.78.78-.78 2.05 0 2.83L4 21.41c.39.39.9.59 1.41.59.51 0 1.02-.2 1.41-.59l7.78-7.78 2.81-2.81c.8-.78.8-2.07 0-2.86zM5.41 20L4 18.59l7.72-7.72 1.47 1.35L5.41 20z\"/>\n",
              "  </svg>\n",
              "      </button>\n",
              "      \n",
              "  <style>\n",
              "    .colab-df-container {\n",
              "      display:flex;\n",
              "      flex-wrap:wrap;\n",
              "      gap: 12px;\n",
              "    }\n",
              "\n",
              "    .colab-df-convert {\n",
              "      background-color: #E8F0FE;\n",
              "      border: none;\n",
              "      border-radius: 50%;\n",
              "      cursor: pointer;\n",
              "      display: none;\n",
              "      fill: #1967D2;\n",
              "      height: 32px;\n",
              "      padding: 0 0 0 0;\n",
              "      width: 32px;\n",
              "    }\n",
              "\n",
              "    .colab-df-convert:hover {\n",
              "      background-color: #E2EBFA;\n",
              "      box-shadow: 0px 1px 2px rgba(60, 64, 67, 0.3), 0px 1px 3px 1px rgba(60, 64, 67, 0.15);\n",
              "      fill: #174EA6;\n",
              "    }\n",
              "\n",
              "    [theme=dark] .colab-df-convert {\n",
              "      background-color: #3B4455;\n",
              "      fill: #D2E3FC;\n",
              "    }\n",
              "\n",
              "    [theme=dark] .colab-df-convert:hover {\n",
              "      background-color: #434B5C;\n",
              "      box-shadow: 0px 1px 3px 1px rgba(0, 0, 0, 0.15);\n",
              "      filter: drop-shadow(0px 1px 2px rgba(0, 0, 0, 0.3));\n",
              "      fill: #FFFFFF;\n",
              "    }\n",
              "  </style>\n",
              "\n",
              "      <script>\n",
              "        const buttonEl =\n",
              "          document.querySelector('#df-1dbe4f01-9ed1-4d8f-b182-2cd46a53291c button.colab-df-convert');\n",
              "        buttonEl.style.display =\n",
              "          google.colab.kernel.accessAllowed ? 'block' : 'none';\n",
              "\n",
              "        async function convertToInteractive(key) {\n",
              "          const element = document.querySelector('#df-1dbe4f01-9ed1-4d8f-b182-2cd46a53291c');\n",
              "          const dataTable =\n",
              "            await google.colab.kernel.invokeFunction('convertToInteractive',\n",
              "                                                     [key], {});\n",
              "          if (!dataTable) return;\n",
              "\n",
              "          const docLinkHtml = 'Like what you see? Visit the ' +\n",
              "            '<a target=\"_blank\" href=https://colab.research.google.com/notebooks/data_table.ipynb>data table notebook</a>'\n",
              "            + ' to learn more about interactive tables.';\n",
              "          element.innerHTML = '';\n",
              "          dataTable['output_type'] = 'display_data';\n",
              "          await google.colab.output.renderOutput(dataTable, element);\n",
              "          const docLink = document.createElement('div');\n",
              "          docLink.innerHTML = docLinkHtml;\n",
              "          element.appendChild(docLink);\n",
              "        }\n",
              "      </script>\n",
              "    </div>\n",
              "  </div>\n",
              "  "
            ]
          },
          "metadata": {},
          "execution_count": 13
        }
      ],
      "source": [
        "X_2=X_data[['petal length (cm)', 'petal width (cm)']]\n",
        "X_2.head(3)"
      ],
      "id": "7jdFp4AF37KN"
    },
    {
      "cell_type": "code",
      "execution_count": null,
      "metadata": {
        "colab": {
          "base_uri": "https://localhost:8080/"
        },
        "id": "usbfsFVH37KO",
        "outputId": "3a7513ae-09c9-471d-cec7-ab833b221953"
      },
      "outputs": [
        {
          "output_type": "stream",
          "name": "stdout",
          "text": [
            "Accuracy of the model 2 with most important features:  0.9777777777777777\n"
          ]
        }
      ],
      "source": [
        "#Split data into train and test. \n",
        "X_train_rf_2, X_test_rf_2, y_train_rf_2, y_test_rf_2 = train_test_split(X_2, y, test_size = 0.30)\n",
        "#Train the dataset with just two features\n",
        "classifier_2 = RandomForestClassifier(n_estimators = 100) \n",
        "classifier_2.fit(X_train_rf_2, y_train_rf_2)\n",
        "y_pred_rf_2 = classifier_2.predict(X_test_rf_2)\n",
        "\n",
        "#Print accuracy\n",
        "print(\"Accuracy of the model 2 with most important features: \", metrics.accuracy_score(y_test_rf_2, y_pred_rf_2))\n"
      ],
      "id": "usbfsFVH37KO"
    },
    {
      "cell_type": "markdown",
      "metadata": {
        "id": "Jx1hfbgc37KO"
      },
      "source": [
        "\n",
        "Explain why it would be useful to remove these features. \n",
        "\n"
      ],
      "id": "Jx1hfbgc37KO"
    },
    {
      "cell_type": "markdown",
      "metadata": {
        "id": "T1mNF0jj37KP"
      },
      "source": [
        "\n",
        "There are different reasons to use feature selection like:\n",
        "\n",
        "It enables the machine learning algorithm to train faster. Reduce computational cost ( and time)\n",
        "\n",
        "It reduces the complexity of a model and makes it easier to interpret.\n",
        "\n",
        "It improves the accuracy of a model if the right subset is chosen.\n",
        "\n",
        "It reduces overfitting.\n",
        "\n",
        "It make our model more simple to interpret. \n",
        "\n",
        "It can reduce the variance of the model, and therefore overfitting. \n"
      ],
      "id": "T1mNF0jj37KP"
    },
    {
      "cell_type": "code",
      "execution_count": null,
      "metadata": {
        "colab": {
          "base_uri": "https://localhost:8080/"
        },
        "id": "OHeeTZvv37KP",
        "outputId": "eaf9572a-6159-417d-b481-181eff714dee"
      },
      "outputs": [
        {
          "output_type": "stream",
          "name": "stdout",
          "text": [
            "Accuracy of the model  with original   all features :  1.0\n",
            "Accuracy of the model 3 with most important features:  0.9777777777777777\n",
            "Accuracy of the model 2 with most important features:  0.9777777777777777\n"
          ]
        }
      ],
      "source": [
        "#comparing accuracy with different features\n",
        "#original, 4 features:\n",
        "print(\"Accuracy of the model  with original   all features : \", metrics.accuracy_score(y_test_rf, y_pred_rf))\n",
        "print(\"Accuracy of the model 3 with most important features: \", metrics.accuracy_score(y_test_rf_3, y_pred_rf_3))\n",
        "print(\"Accuracy of the model 2 with most important features: \", metrics.accuracy_score(y_test_rf_2, y_pred_rf_2))"
      ],
      "id": "OHeeTZvv37KP"
    },
    {
      "cell_type": "markdown",
      "metadata": {
        "id": "acE3FJO337KQ"
      },
      "source": [
        "After running several times the algorithm, the best accuracy is removing 1 o mainly 2 features."
      ],
      "id": "acE3FJO337KQ"
    },
    {
      "cell_type": "markdown",
      "metadata": {
        "id": "IN_HFs3037KQ"
      },
      "source": [
        "\n",
        "### 3.3 kNN Questions [4]\n",
        "Do you think the kNN classifier is best suited to the iris dataset? \n",
        "\n",
        "What ideal qualities would the most appropriate dataset display?  \n",
        "\n",
        "Please answer in the cell below."
      ],
      "id": "IN_HFs3037KQ"
    },
    {
      "cell_type": "markdown",
      "metadata": {
        "id": "vWsf_Oii37KQ"
      },
      "source": [
        "The accuracy of KNN classifiers with all three different metrics ( distances) alway get a value around 97.5%. It is a great and stable value .\n",
        "\n",
        "On the other side we have the accuracy of Naive Bayes algorithm, with a constant accuracy of 100%. Especially in Naive Bayes, a high accuracy means that a conditional probability of independent events perfectly fits the data which gives an outcome that will happen for sure. No event in this world will happen 100% surely. \n",
        "The Naive BAyes classifier'’ conditional independence assumption that features are independent of one another.\n",
        "\n",
        "KNN is best suite due to the high correlation between the features that Naives Bayes.\n",
        "The qualities of the datase, with a small the side, the dataset is properly labelled and no extrem values, noise-free, no high dimensions.\n",
        "\n"
      ],
      "id": "vWsf_Oii37KQ"
    },
    {
      "cell_type": "markdown",
      "metadata": {
        "id": "jEPD7abY37KR"
      },
      "source": [
        "## 4 Comparing Models [18 marks total]\n",
        "Please answer the following questions comparing your classifiers."
      ],
      "id": "jEPD7abY37KR"
    },
    {
      "cell_type": "markdown",
      "metadata": {
        "id": "F-KTXsp_37KR"
      },
      "source": [
        "### 4.1 Compare each model [3]\n",
        "What differences do you see between your Naïve Bayes classifier, your random forest classifier, and your kNN classifier? "
      ],
      "id": "F-KTXsp_37KR"
    },
    {
      "cell_type": "markdown",
      "metadata": {
        "id": "mxdEj7Mm37KR"
      },
      "source": [
        "Obviously the main difference is the way each classifier predict the final output:\n",
        "\n",
        "Naive Bayes is a kind of classifier which uses the Bayes Theorem. It predicts membership probabilities for each class such as the probability that a given record or data point belongs to a particular class.  The class with the highest probability is considered as the most likely class. This is also known as Maximum A Posteriori (MAP).\n",
        "\n",
        "KNN works by finding the distances between a query and all the examples in the data, selecting the specified number examples (K) closest to the query, then votes for the most frequent label (in the case of classification) or averages the labels (in the case of regression).\n",
        "\n",
        "Random Forest is a classifier that contains a number of decision trees on various subsets of the given dataset and takes the average to improve the predictive accuracy of that dataset.\" Instead of relying on one decision tree, the random forest takes the prediction from each tree and based on the majority votes of predictions, and it predicts the final output."
      ],
      "id": "mxdEj7Mm37KR"
    },
    {
      "cell_type": "markdown",
      "metadata": {
        "id": "1dHvJg1W37KS"
      },
      "source": [
        "\n"
      ],
      "id": "1dHvJg1W37KS"
    },
    {
      "cell_type": "markdown",
      "metadata": {
        "id": "AWlgZZY837KS"
      },
      "source": [
        "### 4.2 Accuracy [6]\n",
        "Can you explain why there are differences in accuracy between the three classifiers? "
      ],
      "id": "AWlgZZY837KS"
    },
    {
      "cell_type": "markdown",
      "metadata": {
        "id": "2eEtuQ9-37KS"
      },
      "source": [
        "Next code show the different accuracies from each classifier:"
      ],
      "id": "2eEtuQ9-37KS"
    },
    {
      "cell_type": "code",
      "execution_count": null,
      "metadata": {
        "colab": {
          "base_uri": "https://localhost:8080/"
        },
        "id": "7NYTolfb37KT",
        "outputId": "88eaec27-7caa-43d7-bc40-f4105bf4bcf4"
      },
      "outputs": [
        {
          "output_type": "stream",
          "name": "stdout",
          "text": [
            "Accuracy naive bayes ........................  : 1.00000   \n",
            " \n",
            "Accuracy KNN Euclidean distance  ............  : 0.91111   \n",
            "Accuracy KNN Manhattan distance  ............  : 0.95556   \n",
            "Accuracy KNN Chebyshev distance  ............  : 0.93333   \n",
            " \n",
            "Accuracy Random Forest 4 features ...........  : 1.00000   \n",
            "Accuracy Random Forest 3 features ...........  : 0.97778   \n",
            "Accuracy Random Forest 2 features ...........  : 0.97778   \n"
          ]
        }
      ],
      "source": [
        "print(\"Accuracy naive bayes ........................  : %.5f   \" % metrics.accuracy_score(y_test_nb, y_pred_nb))\n",
        "print( \" \")\n",
        "print(\"Accuracy KNN Euclidean distance  ............  : %.5f   \" %  metrics.accuracy_score(y_test_kn, y_pred_kn_e))\n",
        "print(\"Accuracy KNN Manhattan distance  ............  : %.5f   \" %  metrics.accuracy_score(y_test_kn, y_pred_kn_m))\n",
        "print(\"Accuracy KNN Chebyshev distance  ............  : %.5f   \" %  metrics.accuracy_score(y_test_kn, y_pred_kn_c))\n",
        "print( \" \")\n",
        "\n",
        "print(\"Accuracy Random Forest 4 features ...........  : %.5f   \" % metrics.accuracy_score(y_test_rf, y_pred_rf))\n",
        "print(\"Accuracy Random Forest 3 features ...........  : %.5f   \" % metrics.accuracy_score(y_test_rf_3, y_pred_rf_3))\n",
        "print(\"Accuracy Random Forest 2 features ...........  : %.5f   \" % metrics.accuracy_score(y_test_rf_2, y_pred_rf_2))\n",
        "\n"
      ],
      "id": "7NYTolfb37KT"
    },
    {
      "cell_type": "markdown",
      "metadata": {
        "id": "QbrLK9HL37KT"
      },
      "source": [
        "Naive Bayes gives a constant and stable 100% accuracy everytime I run the algorithm. \n",
        "Can be different reasons, but one could be the high correlation between independent variables. I dont think it's an overfitting problem.\n"
      ],
      "id": "QbrLK9HL37KT"
    },
    {
      "cell_type": "code",
      "execution_count": null,
      "metadata": {
        "colab": {
          "base_uri": "https://localhost:8080/"
        },
        "id": "Db6Rdao137KU",
        "outputId": "47fc2db3-48ea-4bf1-ac97-7b5d587a85cc"
      },
      "outputs": [
        {
          "output_type": "stream",
          "name": "stderr",
          "text": [
            "/usr/local/lib/python3.7/dist-packages/matplotlib/backends/backend_agg.py:214: RuntimeWarning: Glyph 9 missing from current font.\n",
            "  font.set_text(s, 0.0, flags=flags)\n",
            "/usr/local/lib/python3.7/dist-packages/matplotlib/backends/backend_agg.py:183: RuntimeWarning: Glyph 9 missing from current font.\n",
            "  font.set_text(s, 0, flags=flags)\n"
          ]
        },
        {
          "output_type": "display_data",
          "data": {
            "text/plain": [
              "<Figure size 432x288 with 2 Axes>"
            ],
            "image/png": "[encoded data removed]"
          },
          "metadata": {
            "needs_background": "light"
          }
        }
      ],
      "source": [
        "\n",
        "import seaborn as sns\n",
        "\n",
        "df = pd.DataFrame(data=iris.data, columns=iris.feature_names)\n",
        "\n",
        "df[\"target\"] = iris.target\n",
        "hm = sns.heatmap(df.corr(), annot = True)\n",
        "hm.set(xlabel='\\nIRIS Flower Details', ylabel='IRIS Flower Details\\t', title = \"Correlation matrix of IRIS data\\n\")\n",
        "\n",
        "plt.show()"
      ],
      "id": "Db6Rdao137KU"
    },
    {
      "cell_type": "markdown",
      "metadata": {
        "id": "lT_CGeB937KU"
      },
      "source": [
        "The accuracy for KNN is high and constant around 97-98%. It varies every time I run a little bit but keep in these boundaries.  Training the classifier using three different distances gives a similar accuracy. The dataset has features really similar, with no outliers or noise in it.\n",
        "\n",
        "Random forest classifier give better accuracy after removing the less important feature. Most of the time removing the two less important features the accuracy is better."
      ],
      "id": "lT_CGeB937KU"
    },
    {
      "cell_type": "markdown",
      "metadata": {
        "id": "7z2syDkm37KV"
      },
      "source": [
        "### 4.3 Appropriate Use [9]\n",
        "When would it be appropriate to use each different classifier? \n",
        "\n",
        "Reference real-world situations and examples of specific data sets and explain why that classifier would be most appropriate for that use-case."
      ],
      "id": "7z2syDkm37KV"
    },
    {
      "cell_type": "markdown",
      "metadata": {
        "id": "3y2lPYM837KV"
      },
      "source": [
        "Naive Bayes (NB): The naive Bayes algorithm is based on the Bayes’ theorem with the assumption of independence between each pair of features . It works well and can be used for both binary and multi-class categories in many real-world situations, such as document or text classification, spam filtering, etc. \n",
        "\n",
        "Some of real world examples are as given below\n",
        "\n",
        "Classify a news article about technology, politics, or sports \n",
        "\n",
        "As this algorithm is fast and efficient, you can use it to make real-time predictions.\n",
        "\n",
        "This algorithm is popular for multi-class predictions. You can find the probability of multiple target classes easily by using this algorithm.\n",
        "\n",
        "Email services (like Gmail) use this algorithm to figure out whether an email is a spam or not. This algorithm is excellent for spam filtering.\n",
        "\n",
        "Its assumption of feature independence, and its effectiveness in solving multi-class problems, makes it perfect for performing Sentiment Analysis. Sentiment Analysis refers to the identification of positive or negative sentiments of a target group (customers, audience, etc.)\n",
        "\n",
        "Used for face recognition softwares.\n",
        "\n",
        "Collaborative Filtering and the Naive Bayes algorithm work together to build recommendation systems. These systems use data mining and machine learning to predict if the user would like a particular resource or not. \n",
        "\n",
        "It is used for Credit Scoring.\n",
        "\n",
        "It is used in medical data classification.\n",
        "\n",
        "It can be used in real-time predictions because Naïve Bayes Classifier is an eager learner.\n",
        "\n",
        "It is used in Text classification such as Spam filtering and Sentiment analysis.\n",
        "\n",
        "\n",
        "\n",
        "\n",
        "\n",
        "K-nearest neighbors (KNN): K-Nearest Neighbors (KNN)  is an “instance-based learning” or non-generalizing learning, also known as a “lazy learning” algorithm. It does not focus on constructing a general internal model; instead, it stores all instances corresponding to training data in n-dimensional space. KNN uses data and classifies new data points based on similarity measures (e.g., Euclidean distance function) . Classification is computed from a simple majority vote of the k nearest neighbors of each point. It is quite robust to noisy training data, and accuracy depends on the data quality.\n",
        "\n",
        "Finding diabetis ratio:  Diabetes diseases are based on age, health condition, family tradition, and food habits. But is a particular locality we can judge the ratio of diabetes based on the K Nearest Neighbor Algorithm. If you figure out the data of is age, pregnancies, glucose, blood pressure, skin thickness, insulin, body mass index and other required data we can easily plot the probability of diabetes at a certain ageIt can be used in real-time predictions because Naïve Bayes Classifier is an eager learner.\n",
        "\n",
        "Recommendation System:   If we search any product to any online store it will show the product. Decide that particular product it recommends some other product. You will be astonished after knowing that the 35% revenue of Amazon comes from the recommendation system. Decide the online store, You tube, Netflix, and all search engines use the algorithms of k-nearest neighbors\n",
        "\n",
        "Concept Search: Concept search is the industrial application of the K Nearest Neighbor Algorithm. It means searching for similar documents simultaneously. The data on the internet is increasing every single second. The main problem is extracting concepts from the large set of databases. K-nearest neighbor helps to find the concept from the simple approach.\n",
        "\n",
        "Finding The Ratio of Breast Cancer: In the medical sector, the KNN algorithm is widely used. It is used to predict breast cancer. Here KNN algorithm is used as the classifier. The K nearest neighbor is the easiest algorithm to apply here. Based on the previous history of the locality, age and other conditions KNN is suitable for labeled data..\n",
        "\n",
        "\n",
        "\n",
        "\n",
        "\n",
        "Random forest (RF): A random forest classifier is well known as an ensemble classification technique that is used in the field of machine learning and data science in various application areas. This method uses “parallel ensembling” which fits several decision tree classifiers in parallel. On different data set sub-samples and uses majority voting or averages for the outcome or final result. It thus minimizes the over-fitting problem and increases the prediction accuracy and control . \n",
        "\n",
        "Some major Applications of Random Forest in different sectors:\n",
        "\n",
        "Banking Industry: \n",
        " Credit Card Fraud Detection\n",
        " Customer Segmentation\n",
        " Predicting Loan Defaults on LendingClub.com\n",
        "\n",
        "Healthcare and Medicine :\n",
        " Cardiovascular Disease Prediction\n",
        " Diabetes Prediction\n",
        " Breast Cancer Prediction\n",
        "\n",
        "Stock Market :\n",
        " Stock Market Prediction\n",
        " Stock Market Sentiment Analysis\n",
        " Bitcoin Price Detection\n",
        "\n",
        "E-Commerce :\n",
        " Product Recommendation\n",
        " Price Optimization\n",
        " Search Ranking\n"
      ],
      "id": "3y2lPYM837KV"
    },
    {
      "cell_type": "markdown",
      "metadata": {
        "id": "6lEbMyIK37KW"
      },
      "source": [
        "# References"
      ],
      "id": "6lEbMyIK37KW"
    },
    {
      "cell_type": "markdown",
      "metadata": {
        "id": "j_VMxhHO37KW"
      },
      "source": [
        "Hands-on Machine Learning with Scikit-Learn, Keras & Tensoflor. Aurelien Geron. O'Reilly2019\n",
        "\n",
        "Introduction to Machine Learning. Etherm Alpaydin. 2020\n",
        "\n",
        "Python Machine Learning Cookbook.Giuseppe Ciaburro, Prateek Joshi. Packt. Second edition 2019\n",
        "\n",
        "Comparison of the accuracy of classification algorithms on three data-sets in\n",
        "data mining: Example of 20 classes T. Şanlı, Ç. Sıcakyüz, O.H. Yüregir\n",
        "Depart of Industrial Engeneering, Çukurova University, Turkey\n",
        "\n",
        "Study on Naive Bayes Algorithms and How They\n",
        "Work in Real World\n",
        "Saurabh Subhashchand Yadav\n",
        "Post Graduate Student M.Sc., Department of Information Technology\n",
        "Sir Sitaram and Lady Shantabai Patkar College of Arts and Science, Mumbai, India\n",
        "\n",
        "Machine Learning: Algorithms, Real‐World Applications and Research Directions Iqbal H. Sarker1,2 Received: 27 January 2021 / Accepted: 12 March 2021 / Published online: 22 March 2021 © The Author(s), under exclusive licence to Springer Nature Singapore Pte Ltd 2021"
      ],
      "id": "j_VMxhHO37KW"
    },
    {
      "cell_type": "code",
      "execution_count": null,
      "metadata": {
        "id": "ZDZjQi5O37KW"
      },
      "outputs": [],
      "source": [],
      "id": "ZDZjQi5O37KW"
    }
  ],
  "metadata": {
    "kernelspec": {
      "display_name": "Python 3 (ipykernel)",
      "language": "python",
      "name": "python3"
    },
    "language_info": {
      "codemirror_mode": {
        "name": "ipython",
        "version": 3
      },
      "file_extension": ".py",
      "mimetype": "text/x-python",
      "name": "python",
      "nbconvert_exporter": "python",
      "pygments_lexer": "ipython3",
      "version": "3.7.3"
    },
    "colab": {
      "provenance": [],
      "history_visible": true,
      "include_colab_link": true
    }
  },
  "nbformat": 4,
  "nbformat_minor": 5
}